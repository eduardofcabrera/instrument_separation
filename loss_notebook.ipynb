{
 "cells": [
  {
   "cell_type": "code",
   "execution_count": 1,
   "metadata": {},
   "outputs": [],
   "source": [
    "import os"
   ]
  },
  {
   "cell_type": "code",
   "execution_count": 2,
   "metadata": {},
   "outputs": [
    {
     "data": {
      "text/plain": [
       "0"
      ]
     },
     "execution_count": 2,
     "metadata": {},
     "output_type": "execute_result"
    }
   ],
   "source": [
    "os.system(\"cat log_cnn_loss_2.log | grep 'Total Loss' > loss.txt\")"
   ]
  },
  {
   "cell_type": "code",
   "execution_count": 3,
   "metadata": {},
   "outputs": [],
   "source": [
    "with open(\"loss.txt\", \"r\") as f:\n",
    "    lines = f.readlines()"
   ]
  },
  {
   "cell_type": "code",
   "execution_count": 4,
   "metadata": {},
   "outputs": [
    {
     "data": {
      "text/plain": [
       "['Total Loss: 6.65934757232666\\n',\n",
       " 'Total Loss: 5.837353706359863\\n',\n",
       " 'Total Loss: 5.429607925415039\\n',\n",
       " 'Total Loss: 5.671526908874512\\n',\n",
       " 'Total Loss: 5.210045067071914\\n',\n",
       " 'Total Loss: 4.533149719238281\\n',\n",
       " 'Total Loss: 5.186914880275726\\n',\n",
       " 'Total Loss: 4.78139591217041\\n',\n",
       " 'Total Loss: 5.063058049678802\\n',\n",
       " 'Total Loss: 7.400668621063232\\n',\n",
       " 'Total Loss: 5.017005460262299\\n',\n",
       " 'Total Loss: 5.218339920043945\\n',\n",
       " 'Total Loss: 4.838554379940033\\n',\n",
       " 'Total Loss: 3.8230412006378174\\n',\n",
       " 'Total Loss: 4.81052059173584\\n',\n",
       " 'Total Loss: 4.0844831466674805\\n',\n",
       " 'Total Loss: 4.857968566417694\\n',\n",
       " 'Total Loss: 3.1861634254455566\\n',\n",
       " 'Total Loss: 4.735566735267639\\n',\n",
       " 'Total Loss: 4.547019958496094\\n',\n",
       " 'Total Loss: 4.532184110879898\\n',\n",
       " 'Total Loss: 4.343166351318359\\n',\n",
       " 'Total Loss: 4.48162025809288\\n',\n",
       " 'Total Loss: 4.601451396942139\\n',\n",
       " 'Total Loss: 4.466556737422943\\n',\n",
       " 'Total Loss: 5.154172897338867\\n',\n",
       " 'Total Loss: 4.395604068040848\\n',\n",
       " 'Total Loss: 4.028152942657471\\n',\n",
       " 'Total Loss: 4.376028016805649\\n',\n",
       " 'Total Loss: 3.2831571102142334\\n',\n",
       " 'Total Loss: 4.1615737330913545\\n',\n",
       " 'Total Loss: 4.305532932281494\\n',\n",
       " 'Total Loss: 4.129835112094879\\n',\n",
       " 'Total Loss: 3.967245578765869\\n',\n",
       " 'Total Loss: 4.123437430858612\\n',\n",
       " 'Total Loss: 6.159468650817871\\n',\n",
       " 'Total Loss: 4.1268715631961825\\n',\n",
       " 'Total Loss: 6.653027534484863\\n',\n",
       " 'Total Loss: 4.086638551950455\\n',\n",
       " 'Total Loss: 4.526022911071777\\n',\n",
       " 'Total Loss: 4.067419321537018\\n',\n",
       " 'Total Loss: 4.322770118713379\\n',\n",
       " 'Total Loss: 3.9580881679058075\\n',\n",
       " 'Total Loss: 4.475128650665283\\n',\n",
       " 'Total Loss: 3.989184180498123\\n',\n",
       " 'Total Loss: 5.292323589324951\\n',\n",
       " 'Total Loss: 4.073842970132827\\n',\n",
       " 'Total Loss: 3.5026984214782715\\n',\n",
       " 'Total Loss: 3.847495951652527\\n',\n",
       " 'Total Loss: 5.048763751983643\\n',\n",
       " 'Total Loss: 3.952419123649597\\n',\n",
       " 'Total Loss: 4.82387638092041\\n',\n",
       " 'Total Loss: 3.8445252168178556\\n',\n",
       " 'Total Loss: 4.533921241760254\\n',\n",
       " 'Total Loss: 3.8972767174243925\\n',\n",
       " 'Total Loss: 3.5010061264038086\\n',\n",
       " 'Total Loss: 3.799022521972656\\n',\n",
       " 'Total Loss: 3.5876646041870117\\n',\n",
       " 'Total Loss: 3.682449178695679\\n',\n",
       " 'Total Loss: 2.4815874099731445\\n',\n",
       " 'Total Loss: 3.7827413856983183\\n',\n",
       " 'Total Loss: 3.775512218475342\\n',\n",
       " 'Total Loss: 3.7018043863773347\\n',\n",
       " 'Total Loss: 4.159505844116211\\n',\n",
       " 'Total Loss: 3.697078969478607\\n',\n",
       " 'Total Loss: 5.70585298538208\\n',\n",
       " 'Total Loss: 3.730971357822418\\n',\n",
       " 'Total Loss: 3.667956829071045\\n',\n",
       " 'Total Loss: 3.6733952486515045\\n',\n",
       " 'Total Loss: 4.387176990509033\\n',\n",
       " 'Total Loss: 3.6123916482925416\\n',\n",
       " 'Total Loss: 3.736362934112549\\n',\n",
       " 'Total Loss: 3.5575994455814364\\n',\n",
       " 'Total Loss: 4.489882946014404\\n',\n",
       " 'Total Loss: 3.6389371061325075\\n',\n",
       " 'Total Loss: 3.4812965393066406\\n',\n",
       " 'Total Loss: 3.6000661396980287\\n',\n",
       " 'Total Loss: 4.072765350341797\\n',\n",
       " 'Total Loss: 3.49739555478096\\n',\n",
       " 'Total Loss: 4.3073272705078125\\n',\n",
       " 'Total Loss: 3.5266599750518797\\n',\n",
       " 'Total Loss: 3.9718892574310303\\n',\n",
       " 'Total Loss: 3.524309970140457\\n',\n",
       " 'Total Loss: 2.819962978363037\\n',\n",
       " 'Total Loss: 3.400196895003319\\n',\n",
       " 'Total Loss: 4.252861976623535\\n',\n",
       " 'Total Loss: 3.4525953304767607\\n',\n",
       " 'Total Loss: 4.674648284912109\\n',\n",
       " 'Total Loss: 3.477905296087265\\n',\n",
       " 'Total Loss: 3.7312088012695312\\n',\n",
       " 'Total Loss: 3.5223671972751616\\n',\n",
       " 'Total Loss: 3.51798677444458\\n',\n",
       " 'Total Loss: 3.342122235894203\\n',\n",
       " 'Total Loss: 5.382098197937012\\n',\n",
       " 'Total Loss: 3.3537114655971525\\n']"
      ]
     },
     "execution_count": 4,
     "metadata": {},
     "output_type": "execute_result"
    }
   ],
   "source": [
    "lines"
   ]
  }
 ],
 "metadata": {
  "kernelspec": {
   "display_name": "venv",
   "language": "python",
   "name": "python3"
  },
  "language_info": {
   "codemirror_mode": {
    "name": "ipython",
    "version": 3
   },
   "file_extension": ".py",
   "mimetype": "text/x-python",
   "name": "python",
   "nbconvert_exporter": "python",
   "pygments_lexer": "ipython3",
   "version": "3.10.12"
  }
 },
 "nbformat": 4,
 "nbformat_minor": 2
}
